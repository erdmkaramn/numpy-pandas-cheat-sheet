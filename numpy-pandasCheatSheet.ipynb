{
 "cells": [
  {
   "cell_type": "markdown",
   "id": "be3de779-4ad9-4fd4-86fd-914421f8f5a4",
   "metadata": {
    "tags": []
   },
   "source": [
    "#Kütüphane Ekleme"
   ]
  },
  {
   "cell_type": "code",
   "execution_count": 146,
   "id": "ed423bac-53c5-41d4-848b-a761c6ea8afa",
   "metadata": {},
   "outputs": [],
   "source": [
    "import numpy as np"
   ]
  },
  {
   "cell_type": "code",
   "execution_count": 147,
   "id": "21cd3fca-1743-435b-ae1b-187f39e8ddca",
   "metadata": {},
   "outputs": [],
   "source": [
    "import pandas as pd"
   ]
  },
  {
   "cell_type": "markdown",
   "id": "0d50af6c-5456-47d4-83b2-61718e667681",
   "metadata": {},
   "source": [
    "#numpy"
   ]
  },
  {
   "cell_type": "markdown",
   "id": "24c3c7d1-291b-434e-a55c-fb185890887e",
   "metadata": {},
   "source": [
    "Tek boyutlu int array oluşturma"
   ]
  },
  {
   "cell_type": "code",
   "execution_count": 103,
   "id": "af2ea262-b8b1-467b-a345-f532aa6f5f60",
   "metadata": {},
   "outputs": [
    {
     "data": {
      "text/plain": [
       "array([ 1,  2,  3,  4,  5,  6,  7,  8,  9, 10])"
      ]
     },
     "execution_count": 103,
     "metadata": {},
     "output_type": "execute_result"
    }
   ],
   "source": [
    "a=np.array([1,2,3,4,5,6,7,8,9,10],dtype=\"int\")\n",
    "a"
   ]
  },
  {
   "cell_type": "markdown",
   "id": "17ba8b79-efe9-492e-b288-8abeb719940c",
   "metadata": {},
   "source": [
    "İki boyutlu array oluşturma"
   ]
  },
  {
   "cell_type": "code",
   "execution_count": 104,
   "id": "2fb81b71-965d-4e72-a801-458449e52290",
   "metadata": {},
   "outputs": [
    {
     "data": {
      "text/plain": [
       "array([[1, 2, 3],\n",
       "       [4, 5, 6]])"
      ]
     },
     "execution_count": 104,
     "metadata": {},
     "output_type": "execute_result"
    }
   ],
   "source": [
    "b=np.array([[1,2,3],[4,5,6]])\n",
    "b"
   ]
  },
  {
   "cell_type": "markdown",
   "id": "3cc5eab7-39b8-430b-9539-90416f25ba72",
   "metadata": {},
   "source": [
    "20 iel 100 arasında ikişer aralıklı doğrusal bir numpy array oluşturma"
   ]
  },
  {
   "cell_type": "code",
   "execution_count": 105,
   "id": "909a5671-009e-4b89-a104-a07de71e4fac",
   "metadata": {},
   "outputs": [
    {
     "data": {
      "text/plain": [
       "array([20, 22, 24, 26, 28, 30, 32, 34, 36, 38, 40, 42, 44, 46, 48, 50, 52,\n",
       "       54, 56, 58, 60, 62, 64, 66, 68, 70, 72, 74, 76, 78, 80, 82, 84, 86,\n",
       "       88, 90, 92, 94, 96, 98])"
      ]
     },
     "execution_count": 105,
     "metadata": {},
     "output_type": "execute_result"
    }
   ],
   "source": [
    "c=np.arange(20,100,2)\n",
    "c"
   ]
  },
  {
   "cell_type": "markdown",
   "id": "4aac5af1-0238-4075-8f11-0ebf68c7e0db",
   "metadata": {},
   "source": [
    "Rastgele değerlerden oluşan 4*5 lik numpy array oluşturma"
   ]
  },
  {
   "cell_type": "code",
   "execution_count": 106,
   "id": "4965f958-5d1d-49e9-b840-5cc1d6b516e4",
   "metadata": {},
   "outputs": [
    {
     "data": {
      "text/plain": [
       "array([[0.68839439, 0.82981328, 0.25064479, 0.23279866, 0.22322703],\n",
       "       [0.35012703, 0.85294991, 0.2126749 , 0.00561238, 0.29746371],\n",
       "       [0.88588433, 0.84404871, 0.83578718, 0.75251376, 0.00430171],\n",
       "       [0.96630587, 0.0766124 , 0.88122732, 0.04264294, 0.87730564]])"
      ]
     },
     "execution_count": 106,
     "metadata": {},
     "output_type": "execute_result"
    }
   ],
   "source": [
    "d=np.random.random((4,5))\n",
    "d"
   ]
  },
  {
   "cell_type": "markdown",
   "id": "05e69561-874f-4546-847b-72ea1eabea33",
   "metadata": {},
   "source": [
    "0 ile 100 arasında rastgele değerlerden oluşan 4*10 numpy array oluşturma"
   ]
  },
  {
   "cell_type": "code",
   "execution_count": 107,
   "id": "40084619-4960-478a-994c-b2a7f37aaa78",
   "metadata": {},
   "outputs": [
    {
     "data": {
      "text/plain": [
       "array([[93, 18, 19, 31, 18, 17, 96, 58,  4, 42],\n",
       "       [27, 67, 38, 27, 93, 54, 76, 12, 17,  6],\n",
       "       [66, 11, 21, 22, 89, 34, 80, 29, 30, 57],\n",
       "       [91, 54, 68, 65, 55, 29, 20, 67, 52, 53]])"
      ]
     },
     "execution_count": 107,
     "metadata": {},
     "output_type": "execute_result"
    }
   ],
   "source": [
    "e=np.random.randint(0,100,size=(4,10))\n",
    "e"
   ]
  },
  {
   "cell_type": "markdown",
   "id": "bea10e72-0272-4ea9-abe1-4bbe5faf08df",
   "metadata": {},
   "source": [
    "Array boyutu\n",
    "Eleman sayısı\n",
    "Tipi"
   ]
  },
  {
   "cell_type": "code",
   "execution_count": 108,
   "id": "ded1528a-8eec-42c0-80c4-6fc18e981202",
   "metadata": {},
   "outputs": [
    {
     "data": {
      "text/plain": [
       "2"
      ]
     },
     "execution_count": 108,
     "metadata": {},
     "output_type": "execute_result"
    }
   ],
   "source": [
    "e.ndim"
   ]
  },
  {
   "cell_type": "code",
   "execution_count": 109,
   "id": "2fdcf395-6838-4498-a2d4-2766a80ceae1",
   "metadata": {},
   "outputs": [
    {
     "data": {
      "text/plain": [
       "(4, 10)"
      ]
     },
     "execution_count": 109,
     "metadata": {},
     "output_type": "execute_result"
    }
   ],
   "source": [
    "e.shape"
   ]
  },
  {
   "cell_type": "code",
   "execution_count": 110,
   "id": "2b097a1f-7ead-4f47-aa49-38c4ed11db10",
   "metadata": {},
   "outputs": [
    {
     "data": {
      "text/plain": [
       "40"
      ]
     },
     "execution_count": 110,
     "metadata": {},
     "output_type": "execute_result"
    }
   ],
   "source": [
    "e.size"
   ]
  },
  {
   "cell_type": "code",
   "execution_count": 111,
   "id": "d9b3f14c-8f76-480b-a55d-14366b46226e",
   "metadata": {},
   "outputs": [
    {
     "data": {
      "text/plain": [
       "dtype('int32')"
      ]
     },
     "execution_count": 111,
     "metadata": {},
     "output_type": "execute_result"
    }
   ],
   "source": [
    "e.dtype"
   ]
  },
  {
   "cell_type": "markdown",
   "id": "0bb8385f-2c4f-4c09-acb5-6a173427bd0d",
   "metadata": {},
   "source": [
    "Tek boyutlu arrayi iki boyuta döndürme"
   ]
  },
  {
   "cell_type": "code",
   "execution_count": 112,
   "id": "56cc7fac-c1f3-453e-b33d-8bd57129ffbc",
   "metadata": {},
   "outputs": [
    {
     "data": {
      "text/plain": [
       "array([[ 1,  2,  3,  4,  5],\n",
       "       [ 6,  7,  8,  9, 10]])"
      ]
     },
     "execution_count": 112,
     "metadata": {},
     "output_type": "execute_result"
    }
   ],
   "source": [
    "f=a.reshape((2,5))\n",
    "f"
   ]
  },
  {
   "cell_type": "markdown",
   "id": "02f1275b-7130-4ef0-b5a1-9b0dcb62146c",
   "metadata": {},
   "source": [
    "iki tek boyutlu arrayi birleştirme"
   ]
  },
  {
   "cell_type": "code",
   "execution_count": 113,
   "id": "c9ee3d4a-46a0-4209-bee6-012bd230cb4c",
   "metadata": {},
   "outputs": [
    {
     "data": {
      "text/plain": [
       "array([1, 2, 3, 4, 5, 6])"
      ]
     },
     "execution_count": 113,
     "metadata": {},
     "output_type": "execute_result"
    }
   ],
   "source": [
    "array1=np.array([1,2,3])\n",
    "array2=np.array([4,5,6])\n",
    "birlesim=np.concatenate([array1,array2])\n",
    "birlesim"
   ]
  },
  {
   "cell_type": "markdown",
   "id": "c489c5d1-f2f9-451b-9beb-d197cfb20fce",
   "metadata": {},
   "source": [
    "iki tane 3*5 lik array oluşturma ve sütun birleştirme"
   ]
  },
  {
   "cell_type": "code",
   "execution_count": 114,
   "id": "c3ea9399-4cf8-442f-9e51-a30370075b20",
   "metadata": {},
   "outputs": [
    {
     "data": {
      "text/plain": [
       "array([[0.08323269, 0.0287011 , 0.34468329, 0.61149471, 0.28366683,\n",
       "        0.15734896, 0.6316486 , 0.56667581, 0.93276001, 0.78502938],\n",
       "       [0.42004957, 0.95138878, 0.42132373, 0.74861654, 0.37812646,\n",
       "        0.61021747, 0.32434405, 0.66773373, 0.36794025, 0.43259952],\n",
       "       [0.96916948, 0.2876765 , 0.61718395, 0.75903467, 0.8134386 ,\n",
       "        0.31209551, 0.48559671, 0.96073688, 0.09614709, 0.39709138]])"
      ]
     },
     "execution_count": 114,
     "metadata": {},
     "output_type": "execute_result"
    }
   ],
   "source": [
    "x=np.random.random((3,5))\n",
    "y=np.random.random((3,5))\n",
    "z=np.concatenate([x,y],axis=1)\n",
    "z"
   ]
  },
  {
   "cell_type": "markdown",
   "id": "5a7775ba-4472-4ffd-bec3-a1fe2763b717",
   "metadata": {},
   "source": [
    "Tek boyutlu arrayi 3 parçaya, iki boyutlu arrayi dikeyde 2 parçaya ayırma"
   ]
  },
  {
   "cell_type": "code",
   "execution_count": 115,
   "id": "57ffd634-f411-498d-9f0f-647ca321eb56",
   "metadata": {},
   "outputs": [
    {
     "data": {
      "text/plain": [
       "array([], shape=(0, 10), dtype=float64)"
      ]
     },
     "execution_count": 115,
     "metadata": {},
     "output_type": "execute_result"
    }
   ],
   "source": [
    "j,k,l=np.split(z,[2,4])\n",
    "j\n",
    "k\n",
    "l"
   ]
  },
  {
   "cell_type": "code",
   "execution_count": 116,
   "id": "c96a56c9-5323-4bce-b051-12ed143156e1",
   "metadata": {},
   "outputs": [
    {
     "data": {
      "text/plain": [
       "array([[0.61149471, 0.28366683, 0.15734896, 0.6316486 , 0.56667581,\n",
       "        0.93276001, 0.78502938],\n",
       "       [0.74861654, 0.37812646, 0.61021747, 0.32434405, 0.66773373,\n",
       "        0.36794025, 0.43259952],\n",
       "       [0.75903467, 0.8134386 , 0.31209551, 0.48559671, 0.96073688,\n",
       "        0.09614709, 0.39709138]])"
      ]
     },
     "execution_count": 116,
     "metadata": {},
     "output_type": "execute_result"
    }
   ],
   "source": [
    "i,p=np.hsplit(z,[3])\n",
    "i\n",
    "p"
   ]
  },
  {
   "cell_type": "markdown",
   "id": "6fb8bf60-2626-41b0-a8e7-ce102a089158",
   "metadata": {},
   "source": [
    "Tek boyutlu arrayin içindeki bir elemanı değerini değiştirme"
   ]
  },
  {
   "cell_type": "code",
   "execution_count": 117,
   "id": "7d5c5a57-c15a-47bf-bb39-a7b32fadf8ad",
   "metadata": {},
   "outputs": [
    {
     "data": {
      "text/plain": [
       "array([ 1,  7,  3,  4,  5,  6,  7,  8,  9, 10])"
      ]
     },
     "execution_count": 117,
     "metadata": {},
     "output_type": "execute_result"
    }
   ],
   "source": [
    "a[1]=7\n",
    "a"
   ]
  },
  {
   "cell_type": "markdown",
   "id": "b0fd62a1-a0c8-45ae-b3a4-46f20f97171c",
   "metadata": {},
   "source": [
    "İki boyutlu arraylarden birinin içindeki elemanı değiştirme"
   ]
  },
  {
   "cell_type": "code",
   "execution_count": 118,
   "id": "27c9c0a5-6c2b-409c-905a-616259726df7",
   "metadata": {},
   "outputs": [
    {
     "data": {
      "text/plain": [
       "array([[1, 2, 3],\n",
       "       [4, 5, 6]])"
      ]
     },
     "execution_count": 118,
     "metadata": {},
     "output_type": "execute_result"
    }
   ],
   "source": [
    "b[1,1]=5\n",
    "b"
   ]
  },
  {
   "cell_type": "markdown",
   "id": "f6bbe764-63bd-4ce2-8f50-778957bc361f",
   "metadata": {},
   "source": [
    "5*10 rastgele array oluşturma"
   ]
  },
  {
   "cell_type": "code",
   "execution_count": 119,
   "id": "f0306b09-e9f2-4cfe-972b-f815528e01be",
   "metadata": {},
   "outputs": [
    {
     "data": {
      "text/plain": [
       "array([[11, 12,  9,  9, 12, 16,  5,  6, 10,  9],\n",
       "       [19, 16,  5,  4,  2, 13, 18,  6, 16, 14],\n",
       "       [ 8, 16, 11, 18, 19,  0, 16, 10,  8, 19],\n",
       "       [19,  4,  8, 10, 15,  9,  6, 15, 18, 16],\n",
       "       [ 8,  9,  9, 17, 19,  4, 12, 17, 17, 17]])"
      ]
     },
     "execution_count": 119,
     "metadata": {},
     "output_type": "execute_result"
    }
   ],
   "source": [
    "rs=np.random.randint(0,20,size=(5,10))\n",
    "rs"
   ]
  },
  {
   "cell_type": "markdown",
   "id": "b5c2a27a-7a1d-4f5b-905c-5125c41728b3",
   "metadata": {},
   "source": [
    "Arrayin içerisinden 0-4e kadar satırları 1-5e kadar sutunları alma"
   ]
  },
  {
   "cell_type": "code",
   "execution_count": 120,
   "id": "72972bef-c270-4d3e-91ef-ad4e426379e8",
   "metadata": {},
   "outputs": [
    {
     "data": {
      "text/plain": [
       "array([[12,  9,  9, 12],\n",
       "       [16,  5,  4,  2],\n",
       "       [16, 11, 18, 19],\n",
       "       [ 4,  8, 10, 15]])"
      ]
     },
     "execution_count": 120,
     "metadata": {},
     "output_type": "execute_result"
    }
   ],
   "source": [
    "o=rs[:4,1:5]\n",
    "o"
   ]
  },
  {
   "cell_type": "markdown",
   "id": "b6539f8c-b54a-4688-9f9e-03e386341ef2",
   "metadata": {},
   "source": [
    "Tek boyutlu bir arrayin elemanlarının 5 ten küçük olanlarına erişme"
   ]
  },
  {
   "cell_type": "code",
   "execution_count": 121,
   "id": "770e48f4-16a3-40bd-b068-d2157789e360",
   "metadata": {},
   "outputs": [
    {
     "data": {
      "text/plain": [
       "array([1, 3, 4])"
      ]
     },
     "execution_count": 121,
     "metadata": {},
     "output_type": "execute_result"
    }
   ],
   "source": [
    "a[a<5]"
   ]
  },
  {
   "cell_type": "code",
   "execution_count": null,
   "id": "24c1c7d7-0dbf-44c3-a78f-6a1d1b230a7e",
   "metadata": {},
   "outputs": [],
   "source": []
  },
  {
   "cell_type": "markdown",
   "id": "3dd59944-ad96-40b9-97f2-aed858b88189",
   "metadata": {},
   "source": [
    "Pandas\n",
    "\n",
    "6 elemanlı bir seri oluşturma"
   ]
  },
  {
   "cell_type": "code",
   "execution_count": 122,
   "id": "e1b1ea78-bb42-4bb0-a35b-26466e4a8500",
   "metadata": {},
   "outputs": [
    {
     "data": {
      "text/plain": [
       "a    1\n",
       "b    2\n",
       "c    3\n",
       "d    4\n",
       "e    5\n",
       "f    6\n",
       "dtype: int64"
      ]
     },
     "execution_count": 122,
     "metadata": {},
     "output_type": "execute_result"
    }
   ],
   "source": [
    "pd=pd.Series([1,2,3,4,5,6], index=[\"a\",\"b\",\"c\",\"d\",\"e\",\"f\"])\n",
    "pd"
   ]
  },
  {
   "cell_type": "markdown",
   "id": "708f893a-448c-409d-8dc5-c9ec35c60c99",
   "metadata": {},
   "source": [
    "serinin index ve value lerini getirme"
   ]
  },
  {
   "cell_type": "code",
   "execution_count": 123,
   "id": "f970250a-06c4-4eec-8068-2577717ad026",
   "metadata": {},
   "outputs": [
    {
     "data": {
      "text/plain": [
       "[Index(['a', 'b', 'c', 'd', 'e', 'f'], dtype='object')]"
      ]
     },
     "execution_count": 123,
     "metadata": {},
     "output_type": "execute_result"
    }
   ],
   "source": [
    "pd.axes"
   ]
  },
  {
   "cell_type": "code",
   "execution_count": 124,
   "id": "351ec11c-80ca-4d6a-9241-3e39e73b399a",
   "metadata": {},
   "outputs": [
    {
     "data": {
      "text/plain": [
       "array([1, 2, 3, 4, 5, 6], dtype=int64)"
      ]
     },
     "execution_count": 124,
     "metadata": {},
     "output_type": "execute_result"
    }
   ],
   "source": [
    "pd.values"
   ]
  },
  {
   "cell_type": "markdown",
   "id": "00959dc7-b581-499c-8bc8-efa08be7a98d",
   "metadata": {},
   "source": [
    "Serinin ikinci elemanı çağırma ve ikiden beşe kadar olanlarını çağırma"
   ]
  },
  {
   "cell_type": "code",
   "execution_count": 125,
   "id": "4b2b2649-4994-4b5b-abe4-0369dc18f8e0",
   "metadata": {},
   "outputs": [
    {
     "data": {
      "text/plain": [
       "3"
      ]
     },
     "execution_count": 125,
     "metadata": {},
     "output_type": "execute_result"
    }
   ],
   "source": [
    "pd[2]"
   ]
  },
  {
   "cell_type": "code",
   "execution_count": 126,
   "id": "bfe3a966-921b-4f54-8ec8-43ff75029ed5",
   "metadata": {},
   "outputs": [
    {
     "data": {
      "text/plain": [
       "c    3\n",
       "d    4\n",
       "e    5\n",
       "dtype: int64"
      ]
     },
     "execution_count": 126,
     "metadata": {},
     "output_type": "execute_result"
    }
   ],
   "source": [
    "pd[2:5]"
   ]
  },
  {
   "cell_type": "markdown",
   "id": "4b6a4baa-14eb-4a41-a24d-3d69d1641016",
   "metadata": {},
   "source": [
    "serinin 0,204. elemanlarını fancy ile çağırma"
   ]
  },
  {
   "cell_type": "code",
   "execution_count": 143,
   "id": "2feedcbb-61ba-4d7a-b0cc-0492893616f0",
   "metadata": {},
   "outputs": [
    {
     "data": {
      "text/plain": [
       "a    1\n",
       "c    3\n",
       "e    5\n",
       "dtype: int64"
      ]
     },
     "execution_count": 143,
     "metadata": {},
     "output_type": "execute_result"
    }
   ],
   "source": [
    "pd[[0,2,4]]"
   ]
  },
  {
   "cell_type": "markdown",
   "id": "b9f05127-4594-4c1c-9c9b-b8d74b89c88d",
   "metadata": {},
   "source": [
    "3*3 numpy array oluşturma ve dataframe e çevirip sütun isimlerini değiştirme"
   ]
  },
  {
   "cell_type": "code",
   "execution_count": 144,
   "id": "92066781-c786-4587-bfe8-0674195e5f25",
   "metadata": {},
   "outputs": [
    {
     "data": {
      "text/plain": [
       "array([[ 9, 16,  1],\n",
       "       [15,  6,  1],\n",
       "       [16,  9,  8],\n",
       "       [ 4,  9,  7],\n",
       "       [16,  1,  1],\n",
       "       [18, 15,  8],\n",
       "       [14, 13, 14],\n",
       "       [ 4,  4, 19],\n",
       "       [ 3,  4,  2],\n",
       "       [11,  7,  9]])"
      ]
     },
     "execution_count": 144,
     "metadata": {},
     "output_type": "execute_result"
    }
   ],
   "source": [
    "newpd=np.random.randint(0,20,size=(10,3))\n",
    "newpd"
   ]
  },
  {
   "cell_type": "code",
   "execution_count": 148,
   "id": "a9665aa7-e90f-45fa-b2b9-e1d2fe7c1280",
   "metadata": {},
   "outputs": [
    {
     "data": {
      "text/html": [
       "<div>\n",
       "<style scoped>\n",
       "    .dataframe tbody tr th:only-of-type {\n",
       "        vertical-align: middle;\n",
       "    }\n",
       "\n",
       "    .dataframe tbody tr th {\n",
       "        vertical-align: top;\n",
       "    }\n",
       "\n",
       "    .dataframe thead th {\n",
       "        text-align: right;\n",
       "    }\n",
       "</style>\n",
       "<table border=\"1\" class=\"dataframe\">\n",
       "  <thead>\n",
       "    <tr style=\"text-align: right;\">\n",
       "      <th></th>\n",
       "      <th>a</th>\n",
       "      <th>b</th>\n",
       "      <th>c</th>\n",
       "    </tr>\n",
       "  </thead>\n",
       "  <tbody>\n",
       "    <tr>\n",
       "      <th>0</th>\n",
       "      <td>9</td>\n",
       "      <td>16</td>\n",
       "      <td>1</td>\n",
       "    </tr>\n",
       "    <tr>\n",
       "      <th>1</th>\n",
       "      <td>15</td>\n",
       "      <td>6</td>\n",
       "      <td>1</td>\n",
       "    </tr>\n",
       "    <tr>\n",
       "      <th>2</th>\n",
       "      <td>16</td>\n",
       "      <td>9</td>\n",
       "      <td>8</td>\n",
       "    </tr>\n",
       "    <tr>\n",
       "      <th>3</th>\n",
       "      <td>4</td>\n",
       "      <td>9</td>\n",
       "      <td>7</td>\n",
       "    </tr>\n",
       "    <tr>\n",
       "      <th>4</th>\n",
       "      <td>16</td>\n",
       "      <td>1</td>\n",
       "      <td>1</td>\n",
       "    </tr>\n",
       "    <tr>\n",
       "      <th>5</th>\n",
       "      <td>18</td>\n",
       "      <td>15</td>\n",
       "      <td>8</td>\n",
       "    </tr>\n",
       "    <tr>\n",
       "      <th>6</th>\n",
       "      <td>14</td>\n",
       "      <td>13</td>\n",
       "      <td>14</td>\n",
       "    </tr>\n",
       "    <tr>\n",
       "      <th>7</th>\n",
       "      <td>4</td>\n",
       "      <td>4</td>\n",
       "      <td>19</td>\n",
       "    </tr>\n",
       "    <tr>\n",
       "      <th>8</th>\n",
       "      <td>3</td>\n",
       "      <td>4</td>\n",
       "      <td>2</td>\n",
       "    </tr>\n",
       "    <tr>\n",
       "      <th>9</th>\n",
       "      <td>11</td>\n",
       "      <td>7</td>\n",
       "      <td>9</td>\n",
       "    </tr>\n",
       "  </tbody>\n",
       "</table>\n",
       "</div>"
      ],
      "text/plain": [
       "    a   b   c\n",
       "0   9  16   1\n",
       "1  15   6   1\n",
       "2  16   9   8\n",
       "3   4   9   7\n",
       "4  16   1   1\n",
       "5  18  15   8\n",
       "6  14  13  14\n",
       "7   4   4  19\n",
       "8   3   4   2\n",
       "9  11   7   9"
      ]
     },
     "execution_count": 148,
     "metadata": {},
     "output_type": "execute_result"
    }
   ],
   "source": [
    "v=pd.DataFrame(newpd,columns=[\"a\",\"b\",\"c\"])\n",
    "v"
   ]
  },
  {
   "cell_type": "markdown",
   "id": "75d05bc6-382c-4a06-87a5-628b531353be",
   "metadata": {},
   "source": [
    "ilk 5 elemanını getirme"
   ]
  },
  {
   "cell_type": "code",
   "execution_count": 150,
   "id": "ebc6c444-95e5-4f1b-8286-5f513fe93c7e",
   "metadata": {},
   "outputs": [
    {
     "data": {
      "text/html": [
       "<div>\n",
       "<style scoped>\n",
       "    .dataframe tbody tr th:only-of-type {\n",
       "        vertical-align: middle;\n",
       "    }\n",
       "\n",
       "    .dataframe tbody tr th {\n",
       "        vertical-align: top;\n",
       "    }\n",
       "\n",
       "    .dataframe thead th {\n",
       "        text-align: right;\n",
       "    }\n",
       "</style>\n",
       "<table border=\"1\" class=\"dataframe\">\n",
       "  <thead>\n",
       "    <tr style=\"text-align: right;\">\n",
       "      <th></th>\n",
       "      <th>a</th>\n",
       "      <th>b</th>\n",
       "      <th>c</th>\n",
       "    </tr>\n",
       "  </thead>\n",
       "  <tbody>\n",
       "    <tr>\n",
       "      <th>0</th>\n",
       "      <td>9</td>\n",
       "      <td>16</td>\n",
       "      <td>1</td>\n",
       "    </tr>\n",
       "    <tr>\n",
       "      <th>1</th>\n",
       "      <td>15</td>\n",
       "      <td>6</td>\n",
       "      <td>1</td>\n",
       "    </tr>\n",
       "    <tr>\n",
       "      <th>2</th>\n",
       "      <td>16</td>\n",
       "      <td>9</td>\n",
       "      <td>8</td>\n",
       "    </tr>\n",
       "    <tr>\n",
       "      <th>3</th>\n",
       "      <td>4</td>\n",
       "      <td>9</td>\n",
       "      <td>7</td>\n",
       "    </tr>\n",
       "    <tr>\n",
       "      <th>4</th>\n",
       "      <td>16</td>\n",
       "      <td>1</td>\n",
       "      <td>1</td>\n",
       "    </tr>\n",
       "  </tbody>\n",
       "</table>\n",
       "</div>"
      ],
      "text/plain": [
       "    a   b  c\n",
       "0   9  16  1\n",
       "1  15   6  1\n",
       "2  16   9  8\n",
       "3   4   9  7\n",
       "4  16   1  1"
      ]
     },
     "execution_count": 150,
     "metadata": {},
     "output_type": "execute_result"
    }
   ],
   "source": [
    "v.head()"
   ]
  },
  {
   "cell_type": "markdown",
   "id": "3122e889-c330-4fdd-a7f3-ba1778356d3c",
   "metadata": {},
   "source": [
    "Datafrme in ikinci satırını kalıcı olarak silme:"
   ]
  },
  {
   "cell_type": "code",
   "execution_count": 151,
   "id": "6489d706-d7ba-4198-8e88-4a5035f63e21",
   "metadata": {},
   "outputs": [
    {
     "data": {
      "text/html": [
       "<div>\n",
       "<style scoped>\n",
       "    .dataframe tbody tr th:only-of-type {\n",
       "        vertical-align: middle;\n",
       "    }\n",
       "\n",
       "    .dataframe tbody tr th {\n",
       "        vertical-align: top;\n",
       "    }\n",
       "\n",
       "    .dataframe thead th {\n",
       "        text-align: right;\n",
       "    }\n",
       "</style>\n",
       "<table border=\"1\" class=\"dataframe\">\n",
       "  <thead>\n",
       "    <tr style=\"text-align: right;\">\n",
       "      <th></th>\n",
       "      <th>a</th>\n",
       "      <th>b</th>\n",
       "      <th>c</th>\n",
       "    </tr>\n",
       "  </thead>\n",
       "  <tbody>\n",
       "    <tr>\n",
       "      <th>0</th>\n",
       "      <td>9</td>\n",
       "      <td>16</td>\n",
       "      <td>1</td>\n",
       "    </tr>\n",
       "    <tr>\n",
       "      <th>2</th>\n",
       "      <td>16</td>\n",
       "      <td>9</td>\n",
       "      <td>8</td>\n",
       "    </tr>\n",
       "    <tr>\n",
       "      <th>3</th>\n",
       "      <td>4</td>\n",
       "      <td>9</td>\n",
       "      <td>7</td>\n",
       "    </tr>\n",
       "    <tr>\n",
       "      <th>4</th>\n",
       "      <td>16</td>\n",
       "      <td>1</td>\n",
       "      <td>1</td>\n",
       "    </tr>\n",
       "    <tr>\n",
       "      <th>5</th>\n",
       "      <td>18</td>\n",
       "      <td>15</td>\n",
       "      <td>8</td>\n",
       "    </tr>\n",
       "    <tr>\n",
       "      <th>6</th>\n",
       "      <td>14</td>\n",
       "      <td>13</td>\n",
       "      <td>14</td>\n",
       "    </tr>\n",
       "    <tr>\n",
       "      <th>7</th>\n",
       "      <td>4</td>\n",
       "      <td>4</td>\n",
       "      <td>19</td>\n",
       "    </tr>\n",
       "    <tr>\n",
       "      <th>8</th>\n",
       "      <td>3</td>\n",
       "      <td>4</td>\n",
       "      <td>2</td>\n",
       "    </tr>\n",
       "    <tr>\n",
       "      <th>9</th>\n",
       "      <td>11</td>\n",
       "      <td>7</td>\n",
       "      <td>9</td>\n",
       "    </tr>\n",
       "  </tbody>\n",
       "</table>\n",
       "</div>"
      ],
      "text/plain": [
       "    a   b   c\n",
       "0   9  16   1\n",
       "2  16   9   8\n",
       "3   4   9   7\n",
       "4  16   1   1\n",
       "5  18  15   8\n",
       "6  14  13  14\n",
       "7   4   4  19\n",
       "8   3   4   2\n",
       "9  11   7   9"
      ]
     },
     "execution_count": 151,
     "metadata": {},
     "output_type": "execute_result"
    }
   ],
   "source": [
    "v.drop(1, axis=0, inplace = True)\n",
    "v"
   ]
  },
  {
   "cell_type": "markdown",
   "id": "3df2ad90-2a75-485a-9695-dc6229cf23e6",
   "metadata": {},
   "source": [
    "Yeni bir sütun oluşturup bu sütuna ilk üç sütunun çapım değerlerini atama:"
   ]
  },
  {
   "cell_type": "code",
   "execution_count": 155,
   "id": "c463e4fc-f75a-4d60-8c26-7a9c7c99b5a6",
   "metadata": {},
   "outputs": [
    {
     "data": {
      "text/html": [
       "<div>\n",
       "<style scoped>\n",
       "    .dataframe tbody tr th:only-of-type {\n",
       "        vertical-align: middle;\n",
       "    }\n",
       "\n",
       "    .dataframe tbody tr th {\n",
       "        vertical-align: top;\n",
       "    }\n",
       "\n",
       "    .dataframe thead th {\n",
       "        text-align: right;\n",
       "    }\n",
       "</style>\n",
       "<table border=\"1\" class=\"dataframe\">\n",
       "  <thead>\n",
       "    <tr style=\"text-align: right;\">\n",
       "      <th></th>\n",
       "      <th>a</th>\n",
       "      <th>b</th>\n",
       "      <th>c</th>\n",
       "      <th>d</th>\n",
       "    </tr>\n",
       "  </thead>\n",
       "  <tbody>\n",
       "    <tr>\n",
       "      <th>0</th>\n",
       "      <td>9</td>\n",
       "      <td>16</td>\n",
       "      <td>1</td>\n",
       "      <td>144</td>\n",
       "    </tr>\n",
       "    <tr>\n",
       "      <th>2</th>\n",
       "      <td>16</td>\n",
       "      <td>9</td>\n",
       "      <td>8</td>\n",
       "      <td>1152</td>\n",
       "    </tr>\n",
       "    <tr>\n",
       "      <th>3</th>\n",
       "      <td>4</td>\n",
       "      <td>9</td>\n",
       "      <td>7</td>\n",
       "      <td>252</td>\n",
       "    </tr>\n",
       "    <tr>\n",
       "      <th>4</th>\n",
       "      <td>16</td>\n",
       "      <td>1</td>\n",
       "      <td>1</td>\n",
       "      <td>16</td>\n",
       "    </tr>\n",
       "    <tr>\n",
       "      <th>5</th>\n",
       "      <td>18</td>\n",
       "      <td>15</td>\n",
       "      <td>8</td>\n",
       "      <td>2160</td>\n",
       "    </tr>\n",
       "    <tr>\n",
       "      <th>6</th>\n",
       "      <td>14</td>\n",
       "      <td>13</td>\n",
       "      <td>14</td>\n",
       "      <td>2548</td>\n",
       "    </tr>\n",
       "    <tr>\n",
       "      <th>7</th>\n",
       "      <td>4</td>\n",
       "      <td>4</td>\n",
       "      <td>19</td>\n",
       "      <td>304</td>\n",
       "    </tr>\n",
       "    <tr>\n",
       "      <th>8</th>\n",
       "      <td>3</td>\n",
       "      <td>4</td>\n",
       "      <td>2</td>\n",
       "      <td>24</td>\n",
       "    </tr>\n",
       "    <tr>\n",
       "      <th>9</th>\n",
       "      <td>11</td>\n",
       "      <td>7</td>\n",
       "      <td>9</td>\n",
       "      <td>693</td>\n",
       "    </tr>\n",
       "  </tbody>\n",
       "</table>\n",
       "</div>"
      ],
      "text/plain": [
       "    a   b   c     d\n",
       "0   9  16   1   144\n",
       "2  16   9   8  1152\n",
       "3   4   9   7   252\n",
       "4  16   1   1    16\n",
       "5  18  15   8  2160\n",
       "6  14  13  14  2548\n",
       "7   4   4  19   304\n",
       "8   3   4   2    24\n",
       "9  11   7   9   693"
      ]
     },
     "execution_count": 155,
     "metadata": {},
     "output_type": "execute_result"
    }
   ],
   "source": [
    "v[\"d\"] = v[\"a\"]*v[\"b\"]*v[\"c\"]\n",
    "v"
   ]
  },
  {
   "cell_type": "code",
   "execution_count": 156,
   "id": "878e2090-ff86-4055-a9f0-602de3346232",
   "metadata": {},
   "outputs": [
    {
     "ename": "SyntaxError",
     "evalue": "invalid syntax (460995195.py, line 1)",
     "output_type": "error",
     "traceback": [
      "\u001b[1;36m  Input \u001b[1;32mIn [156]\u001b[1;36m\u001b[0m\n\u001b[1;33m    Oluşan dataframe i bozulan indexleri düzelterek birleştirme:\u001b[0m\n\u001b[1;37m           ^\u001b[0m\n\u001b[1;31mSyntaxError\u001b[0m\u001b[1;31m:\u001b[0m invalid syntax\n"
     ]
    }
   ],
   "source": [
    "Oluşan dataframe i bozulan indexleri düzelterek birleştirme: "
   ]
  },
  {
   "cell_type": "code",
   "execution_count": 157,
   "id": "34005707-c13c-4041-aff0-7b52a3543a65",
   "metadata": {},
   "outputs": [
    {
     "data": {
      "text/html": [
       "<div>\n",
       "<style scoped>\n",
       "    .dataframe tbody tr th:only-of-type {\n",
       "        vertical-align: middle;\n",
       "    }\n",
       "\n",
       "    .dataframe tbody tr th {\n",
       "        vertical-align: top;\n",
       "    }\n",
       "\n",
       "    .dataframe thead th {\n",
       "        text-align: right;\n",
       "    }\n",
       "</style>\n",
       "<table border=\"1\" class=\"dataframe\">\n",
       "  <thead>\n",
       "    <tr style=\"text-align: right;\">\n",
       "      <th></th>\n",
       "      <th>a</th>\n",
       "      <th>b</th>\n",
       "      <th>c</th>\n",
       "      <th>d</th>\n",
       "    </tr>\n",
       "  </thead>\n",
       "  <tbody>\n",
       "    <tr>\n",
       "      <th>0</th>\n",
       "      <td>9</td>\n",
       "      <td>16</td>\n",
       "      <td>1</td>\n",
       "      <td>144</td>\n",
       "    </tr>\n",
       "    <tr>\n",
       "      <th>1</th>\n",
       "      <td>16</td>\n",
       "      <td>9</td>\n",
       "      <td>8</td>\n",
       "      <td>1152</td>\n",
       "    </tr>\n",
       "    <tr>\n",
       "      <th>2</th>\n",
       "      <td>4</td>\n",
       "      <td>9</td>\n",
       "      <td>7</td>\n",
       "      <td>252</td>\n",
       "    </tr>\n",
       "    <tr>\n",
       "      <th>3</th>\n",
       "      <td>16</td>\n",
       "      <td>1</td>\n",
       "      <td>1</td>\n",
       "      <td>16</td>\n",
       "    </tr>\n",
       "    <tr>\n",
       "      <th>4</th>\n",
       "      <td>18</td>\n",
       "      <td>15</td>\n",
       "      <td>8</td>\n",
       "      <td>2160</td>\n",
       "    </tr>\n",
       "    <tr>\n",
       "      <th>5</th>\n",
       "      <td>14</td>\n",
       "      <td>13</td>\n",
       "      <td>14</td>\n",
       "      <td>2548</td>\n",
       "    </tr>\n",
       "    <tr>\n",
       "      <th>6</th>\n",
       "      <td>4</td>\n",
       "      <td>4</td>\n",
       "      <td>19</td>\n",
       "      <td>304</td>\n",
       "    </tr>\n",
       "    <tr>\n",
       "      <th>7</th>\n",
       "      <td>3</td>\n",
       "      <td>4</td>\n",
       "      <td>2</td>\n",
       "      <td>24</td>\n",
       "    </tr>\n",
       "    <tr>\n",
       "      <th>8</th>\n",
       "      <td>11</td>\n",
       "      <td>7</td>\n",
       "      <td>9</td>\n",
       "      <td>693</td>\n",
       "    </tr>\n",
       "    <tr>\n",
       "      <th>9</th>\n",
       "      <td>9</td>\n",
       "      <td>16</td>\n",
       "      <td>1</td>\n",
       "      <td>144</td>\n",
       "    </tr>\n",
       "    <tr>\n",
       "      <th>10</th>\n",
       "      <td>16</td>\n",
       "      <td>9</td>\n",
       "      <td>8</td>\n",
       "      <td>1152</td>\n",
       "    </tr>\n",
       "    <tr>\n",
       "      <th>11</th>\n",
       "      <td>4</td>\n",
       "      <td>9</td>\n",
       "      <td>7</td>\n",
       "      <td>252</td>\n",
       "    </tr>\n",
       "    <tr>\n",
       "      <th>12</th>\n",
       "      <td>16</td>\n",
       "      <td>1</td>\n",
       "      <td>1</td>\n",
       "      <td>16</td>\n",
       "    </tr>\n",
       "    <tr>\n",
       "      <th>13</th>\n",
       "      <td>18</td>\n",
       "      <td>15</td>\n",
       "      <td>8</td>\n",
       "      <td>2160</td>\n",
       "    </tr>\n",
       "    <tr>\n",
       "      <th>14</th>\n",
       "      <td>14</td>\n",
       "      <td>13</td>\n",
       "      <td>14</td>\n",
       "      <td>2548</td>\n",
       "    </tr>\n",
       "    <tr>\n",
       "      <th>15</th>\n",
       "      <td>4</td>\n",
       "      <td>4</td>\n",
       "      <td>19</td>\n",
       "      <td>304</td>\n",
       "    </tr>\n",
       "    <tr>\n",
       "      <th>16</th>\n",
       "      <td>3</td>\n",
       "      <td>4</td>\n",
       "      <td>2</td>\n",
       "      <td>24</td>\n",
       "    </tr>\n",
       "    <tr>\n",
       "      <th>17</th>\n",
       "      <td>11</td>\n",
       "      <td>7</td>\n",
       "      <td>9</td>\n",
       "      <td>693</td>\n",
       "    </tr>\n",
       "  </tbody>\n",
       "</table>\n",
       "</div>"
      ],
      "text/plain": [
       "     a   b   c     d\n",
       "0    9  16   1   144\n",
       "1   16   9   8  1152\n",
       "2    4   9   7   252\n",
       "3   16   1   1    16\n",
       "4   18  15   8  2160\n",
       "5   14  13  14  2548\n",
       "6    4   4  19   304\n",
       "7    3   4   2    24\n",
       "8   11   7   9   693\n",
       "9    9  16   1   144\n",
       "10  16   9   8  1152\n",
       "11   4   9   7   252\n",
       "12  16   1   1    16\n",
       "13  18  15   8  2160\n",
       "14  14  13  14  2548\n",
       "15   4   4  19   304\n",
       "16   3   4   2    24\n",
       "17  11   7   9   693"
      ]
     },
     "execution_count": 157,
     "metadata": {},
     "output_type": "execute_result"
    }
   ],
   "source": [
    "v1=pd.concat([v,v], ignore_index=True)\n",
    "v1"
   ]
  },
  {
   "cell_type": "markdown",
   "id": "8ca8f67c-56a0-4ba1-ab3a-004203c5906d",
   "metadata": {},
   "source": [
    "ilk iki değişkenin 3 satırını getirme"
   ]
  },
  {
   "cell_type": "code",
   "execution_count": 158,
   "id": "ffd80c72-fc85-465d-9c7d-b375ff426d0c",
   "metadata": {},
   "outputs": [
    {
     "data": {
      "text/html": [
       "<div>\n",
       "<style scoped>\n",
       "    .dataframe tbody tr th:only-of-type {\n",
       "        vertical-align: middle;\n",
       "    }\n",
       "\n",
       "    .dataframe tbody tr th {\n",
       "        vertical-align: top;\n",
       "    }\n",
       "\n",
       "    .dataframe thead th {\n",
       "        text-align: right;\n",
       "    }\n",
       "</style>\n",
       "<table border=\"1\" class=\"dataframe\">\n",
       "  <thead>\n",
       "    <tr style=\"text-align: right;\">\n",
       "      <th></th>\n",
       "      <th>a</th>\n",
       "      <th>b</th>\n",
       "    </tr>\n",
       "  </thead>\n",
       "  <tbody>\n",
       "    <tr>\n",
       "      <th>0</th>\n",
       "      <td>9</td>\n",
       "      <td>16</td>\n",
       "    </tr>\n",
       "    <tr>\n",
       "      <th>1</th>\n",
       "      <td>16</td>\n",
       "      <td>9</td>\n",
       "    </tr>\n",
       "    <tr>\n",
       "      <th>2</th>\n",
       "      <td>4</td>\n",
       "      <td>9</td>\n",
       "    </tr>\n",
       "  </tbody>\n",
       "</table>\n",
       "</div>"
      ],
      "text/plain": [
       "    a   b\n",
       "0   9  16\n",
       "1  16   9\n",
       "2   4   9"
      ]
     },
     "execution_count": 158,
     "metadata": {},
     "output_type": "execute_result"
    }
   ],
   "source": [
    "v1.iloc[:3,:2]"
   ]
  },
  {
   "cell_type": "code",
   "execution_count": null,
   "id": "2d706163-e4d7-43a6-8526-17451167bb88",
   "metadata": {},
   "outputs": [],
   "source": []
  }
 ],
 "metadata": {
  "kernelspec": {
   "display_name": "Python 3 (ipykernel)",
   "language": "python",
   "name": "python3"
  },
  "language_info": {
   "codemirror_mode": {
    "name": "ipython",
    "version": 3
   },
   "file_extension": ".py",
   "mimetype": "text/x-python",
   "name": "python",
   "nbconvert_exporter": "python",
   "pygments_lexer": "ipython3",
   "version": "3.9.12"
  }
 },
 "nbformat": 4,
 "nbformat_minor": 5
}
